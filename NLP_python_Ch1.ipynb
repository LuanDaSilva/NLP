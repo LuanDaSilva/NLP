{
 "cells": [
  {
   "cell_type": "markdown",
   "source": [
    "# Natural Language Processing with python"
   ],
   "metadata": {}
  },
  {
   "cell_type": "markdown",
   "source": [
    "## Those notebooks are my notes of the homonym book. "
   ],
   "metadata": {}
  },
  {
   "cell_type": "code",
   "execution_count": 108,
   "source": [
    "import nltk\n",
    "nltk.download() #Downloading the material necessary.\n",
    "# It will pop up a window. Choose book, then download all the materials."
   ],
   "outputs": [
    {
     "output_type": "stream",
     "name": "stdout",
     "text": [
      "showing info https://raw.githubusercontent.com/nltk/nltk_data/gh-pages/index.xml\n"
     ]
    },
    {
     "output_type": "execute_result",
     "data": {
      "text/plain": [
       "True"
      ]
     },
     "metadata": {},
     "execution_count": 108
    }
   ],
   "metadata": {}
  },
  {
   "cell_type": "code",
   "execution_count": 128,
   "source": [
    "import numpy as np \n",
    "import matplotlib.pyplot as plt"
   ],
   "outputs": [],
   "metadata": {}
  },
  {
   "cell_type": "code",
   "execution_count": 109,
   "source": [
    "from nltk.book import *"
   ],
   "outputs": [],
   "metadata": {}
  },
  {
   "cell_type": "markdown",
   "source": [
    "import nltk"
   ],
   "metadata": {}
  },
  {
   "cell_type": "code",
   "execution_count": 110,
   "source": [
    "# checking texts\n",
    "text1"
   ],
   "outputs": [
    {
     "output_type": "execute_result",
     "data": {
      "text/plain": [
       "<Text: Moby Dick by Herman Melville 1851>"
      ]
     },
     "metadata": {},
     "execution_count": 110
    }
   ],
   "metadata": {}
  },
  {
   "cell_type": "code",
   "execution_count": 111,
   "source": [
    "text2"
   ],
   "outputs": [
    {
     "output_type": "execute_result",
     "data": {
      "text/plain": [
       "<Text: Sense and Sensibility by Jane Austen 1811>"
      ]
     },
     "metadata": {},
     "execution_count": 111
    }
   ],
   "metadata": {}
  },
  {
   "cell_type": "code",
   "execution_count": 112,
   "source": [
    "#finding phrases with the world monstrous\n",
    "text1.concordance(\"monstrous\") "
   ],
   "outputs": [
    {
     "output_type": "stream",
     "name": "stdout",
     "text": [
      "Displaying 11 of 11 matches:\n",
      "ong the former , one was of a most monstrous size . ... This came towards us , \n",
      "ON OF THE PSALMS . \" Touching that monstrous bulk of the whale or ork we have r\n",
      "ll over with a heathenish array of monstrous clubs and spears . Some were thick\n",
      "d as you gazed , and wondered what monstrous cannibal and savage could ever hav\n",
      "that has survived the flood ; most monstrous and most mountainous ! That Himmal\n",
      "they might scout at Moby Dick as a monstrous fable , or still worse and more de\n",
      "th of Radney .'\" CHAPTER 55 Of the Monstrous Pictures of Whales . I shall ere l\n",
      "ing Scenes . In connexion with the monstrous pictures of whales , I am strongly\n",
      "ere to enter upon those still more monstrous stories of them which are to be fo\n",
      "ght have been rummaged out of this monstrous cabinet there is no telling . But \n",
      "of Whale - Bones ; for Whales of a monstrous size are oftentimes cast up dead u\n"
     ]
    }
   ],
   "metadata": {}
  },
  {
   "cell_type": "code",
   "execution_count": 113,
   "source": [
    "# finding the occurences of the word \"heart\"\n",
    "text1.concordance(\"heart\")\n"
   ],
   "outputs": [
    {
     "output_type": "stream",
     "name": "stdout",
     "text": [
      "Displaying 25 of 91 matches:\n",
      "e pale Usher -- threadbare in coat , heart , body , and brain ; I see him now .\n",
      "llons of blood are thrown out of the heart at a stroke , with immense velocity \n",
      "the blood gushing from the whale ' s heart .\" -- PALEY ' S THEOLOGY . \" The wha\n",
      "k on an empty stomach , in the negro heart of Africa , which was the sum of poo\n",
      "ehind . He goes down in the whirling heart of such a masterless commotion that \n",
      " I saw the traces of a simple honest heart ; and in his large , deep eyes , fie\n",
      "elting in me . No more my splintered heart and maddened hand were turned agains\n",
      "u lie like the one warm spark in the heart of an arctic crystal . We had been s\n",
      " pagan . And thus an old idolator at heart , he yet lived among these Christian\n",
      " greenness , must have come from the heart and centre of all verdure . Queequeg\n",
      "ith a globular brain and a ponderous heart ; who has also by the stillness and \n",
      "e your treasure is , there will your heart be also .\" \" I am going to put him d\n",
      "Captain Peleg , thou hast a generous heart ; but thou must consider the duty th\n",
      "omical , and could not find it in my heart to undervalue even a congregation of\n",
      "godly guise . Thou beliest thine own heart , Peleg . Tell me , when this same P\n",
      "eemed to me , I pronounced him in my heart , a humbug . CHAPTER 20 All Astir . \n",
      "thither , ready to turn her hand and heart to anything that promised to yield s\n",
      "I would have seen very plainly in my heart that I did but half fancy being comm\n",
      "e ! is all this agony so vain ? Take heart , take heart , O Bulkington ! Bear t\n",
      "is agony so vain ? Take heart , take heart , O Bulkington ! Bear thee grimly , \n",
      " fortitude , scarce might I have the heart to write it ; for it is a thing most\n",
      "\" On account of their warm bilocular heart , their lungs , their movable eyelid\n",
      ", loud , animal sob , like that of a heart - stricken moose ; \" Aye , aye ! it \n",
      "e , God may wedge aside . I would up heart , were it not like lead . But my who\n",
      "But my whole clock ' s run down ; my heart the all - controlling weight , I hav\n"
     ]
    }
   ],
   "metadata": {}
  },
  {
   "cell_type": "code",
   "execution_count": 114,
   "source": [
    "# Finding words often found with the word \"monstrous\"\n",
    "# On Moby Dick\n",
    "text1.similar(\"monstrous\")"
   ],
   "outputs": [
    {
     "output_type": "stream",
     "name": "stdout",
     "text": [
      "true contemptible christian abundant few part mean careful puzzled\n",
      "mystifying passing curious loving wise doleful gamesome singular\n",
      "delightfully perilous fearless\n"
     ]
    }
   ],
   "metadata": {}
  },
  {
   "cell_type": "code",
   "execution_count": 115,
   "source": [
    "# On Sense and Sensibility by Jane Austen 1811\n",
    "text2.similar(\"monstrous\")"
   ],
   "outputs": [
    {
     "output_type": "stream",
     "name": "stdout",
     "text": [
      "very so exceedingly heartily a as good great extremely remarkably\n",
      "sweet vast amazingly\n"
     ]
    }
   ],
   "metadata": {}
  },
  {
   "cell_type": "markdown",
   "source": [
    "### Note that the autors use the word monstrous in different\n",
    "### connotations. Austen uses it in a positive connotation,\n",
    "### very diferent from Melville. "
   ],
   "metadata": {}
  },
  {
   "cell_type": "markdown",
   "source": [],
   "metadata": {}
  },
  {
   "cell_type": "code",
   "execution_count": 116,
   "source": [
    "# Check the context share by a list of words\n",
    "text2.common_contexts([\"monstrous\",\"very\"])"
   ],
   "outputs": [
    {
     "output_type": "stream",
     "name": "stdout",
     "text": [
      "am_glad a_pretty a_lucky is_pretty be_glad\n"
     ]
    }
   ],
   "metadata": {}
  },
  {
   "cell_type": "markdown",
   "source": [],
   "metadata": {}
  },
  {
   "cell_type": "code",
   "execution_count": 117,
   "source": [
    "# Check exactly where on text a word appears\n",
    "text4.dispersibon_plot([\"citizens\", \"democracy\", \"freedom\", \"duties\", \"America\"])"
   ],
   "outputs": [
    {
     "output_type": "error",
     "ename": "AttributeError",
     "evalue": "'Text' object has no attribute 'dispersibon_plot'",
     "traceback": [
      "\u001b[0;31m---------------------------------------------------------------------------\u001b[0m",
      "\u001b[0;31mAttributeError\u001b[0m                            Traceback (most recent call last)",
      "\u001b[0;32m<ipython-input-117-a052ae959454>\u001b[0m in \u001b[0;36m<module>\u001b[0;34m\u001b[0m\n\u001b[1;32m      1\u001b[0m \u001b[0;31m# Check exactly where on text a word appears\u001b[0m\u001b[0;34m\u001b[0m\u001b[0;34m\u001b[0m\u001b[0;34m\u001b[0m\u001b[0m\n\u001b[0;32m----> 2\u001b[0;31m \u001b[0mtext4\u001b[0m\u001b[0;34m.\u001b[0m\u001b[0mdispersibon_plot\u001b[0m\u001b[0;34m(\u001b[0m\u001b[0;34m[\u001b[0m\u001b[0;34m\"citizens\"\u001b[0m\u001b[0;34m,\u001b[0m \u001b[0;34m\"democracy\"\u001b[0m\u001b[0;34m,\u001b[0m \u001b[0;34m\"freedom\"\u001b[0m\u001b[0;34m,\u001b[0m \u001b[0;34m\"duties\"\u001b[0m\u001b[0;34m,\u001b[0m \u001b[0;34m\"America\"\u001b[0m\u001b[0;34m]\u001b[0m\u001b[0;34m)\u001b[0m\u001b[0;34m\u001b[0m\u001b[0;34m\u001b[0m\u001b[0m\n\u001b[0m",
      "\u001b[0;31mAttributeError\u001b[0m: 'Text' object has no attribute 'dispersibon_plot'"
     ]
    }
   ],
   "metadata": {}
  },
  {
   "cell_type": "code",
   "execution_count": null,
   "source": [
    "# Comparing texts\n",
    "text1.dispersion_plot([\"citizens\", \"democracy\", \"freedom\", \"duties\", \"America\"])\n",
    "# Note that depending on the subject, the words used can be completely different!"
   ],
   "outputs": [
    {
     "output_type": "display_data",
     "data": {
      "text/plain": [
       "<Figure size 432x288 with 1 Axes>"
      ],
      "image/png": "[encoded data removed]"
     },
     "metadata": {
      "needs_background": "light"
     }
    }
   ],
   "metadata": {}
  },
  {
   "cell_type": "code",
   "execution_count": null,
   "source": [
    "# checking the dispersion plot on Moby Dick with words that we expect finding\n",
    "text1.dispersion_plot([\"water\", \"sea\", \"whale\", \"dead\", \"ship\"])"
   ],
   "outputs": [
    {
     "output_type": "display_data",
     "data": {
      "text/plain": [
       "<Figure size 432x288 with 1 Axes>"
      ],
      "image/png": "[encoded data removed]"
     },
     "metadata": {
      "needs_background": "light"
     }
    }
   ],
   "metadata": {}
  },
  {
   "cell_type": "code",
   "execution_count": null,
   "source": [
    "# Generating random text from a text style\n",
    "text1.generate()"
   ],
   "outputs": [
    {
     "output_type": "stream",
     "name": "stderr",
     "text": [
      "Building ngram index...\n"
     ]
    },
    {
     "output_type": "stream",
     "name": "stdout",
     "text": [
      "long , from one to the top - mast , and no coffin and went out a sea\n",
      "captain -- this peaking of the whales . , so as to preserve all his\n",
      "might had in former years abounding with them , they toil with their\n",
      "lances , strange tales of Southern whaling . at once the bravest\n",
      "Indians he was , after in vain strove to pierce the profundity . ?\n",
      "then ?\" a levelled flame of pale , And give no chance , watch him ;\n",
      "though the line , it is to be gainsaid . have been\n"
     ]
    },
    {
     "output_type": "execute_result",
     "data": {
      "text/plain": [
       "'long , from one to the top - mast , and no coffin and went out a sea\\ncaptain -- this peaking of the whales . , so as to preserve all his\\nmight had in former years abounding with them , they toil with their\\nlances , strange tales of Southern whaling . at once the bravest\\nIndians he was , after in vain strove to pierce the profundity . ?\\nthen ?\" a levelled flame of pale , And give no chance , watch him ;\\nthough the line , it is to be gainsaid . have been'"
      ]
     },
     "metadata": {},
     "execution_count": 28
    }
   ],
   "metadata": {}
  },
  {
   "cell_type": "markdown",
   "source": [
    "# Counting Vocabulary"
   ],
   "metadata": {}
  },
  {
   "cell_type": "code",
   "execution_count": null,
   "source": [
    "# Counting vocabulary naively\n",
    "print(\"text 3 have {} tokens\".format(len(text3)))"
   ],
   "outputs": [
    {
     "output_type": "stream",
     "name": "stdout",
     "text": [
      "text 3 have 44764 tokens\n"
     ]
    }
   ],
   "metadata": {}
  },
  {
   "cell_type": "code",
   "execution_count": null,
   "source": [
    "# Applying a cleaver strategy\n",
    "len(sorted(set(text3)))# set counts only once each term and \n",
    "# sorted orders it.\n",
    "# With this strategy, we're discovering the word types,\n",
    "#that is, the word considered as a unique \n",
    "# item of vocabulary."
   ],
   "outputs": [
    {
     "output_type": "execute_result",
     "data": {
      "text/plain": [
       "2789"
      ]
     },
     "metadata": {},
     "execution_count": 42
    }
   ],
   "metadata": {}
  },
  {
   "cell_type": "code",
   "execution_count": null,
   "source": [
    "# Measuring lexical richness of a text\n",
    "richness = lambda text: len(text)/len(set(text))\n",
    "print(\"richness of text 1: {}\".format(richness(text1)))\n",
    "print(\"richness of text 2: {}\".format(richness(text2)))\n",
    "print(\"richness of text 3: {}\".format(richness(text3)))\n",
    "print(\"richness of text 4: {}\".format(richness(text4)))\n",
    "print(\"richness of text 9: {}\".format(richness(text9)))\n",
    "\n"
   ],
   "outputs": [
    {
     "output_type": "stream",
     "name": "stdout",
     "text": [
      "richness of text 1: 13.502044830977896\n",
      "richness of text 2: 20.719449729255086\n",
      "richness of text 3: 16.050197203298673\n",
      "richness of text 4: 15.111167154241905\n",
      "richness of text 9: 10.167915381225209\n"
     ]
    }
   ],
   "metadata": {}
  },
  {
   "cell_type": "code",
   "execution_count": null,
   "source": [
    "# Counting how may times a word occurs in a text:\n",
    "word_occurence = lambda text,word: 100*text.count(word)/len(text)\n",
    "word_occurence(text4,'a')"
   ],
   "outputs": [
    {
     "output_type": "execute_result",
     "data": {
      "text/plain": [
       "1.457973123627309"
      ]
     },
     "metadata": {},
     "execution_count": 54
    }
   ],
   "metadata": {}
  },
  {
   "cell_type": "code",
   "execution_count": null,
   "source": [
    "# With python sets, it's possible to check words used\n",
    "# by one text but not by another\n",
    "\n",
    "A = set(text1)\n",
    "B = set(text2)\n",
    "diff1 = A.difference(B)# Which words exists in Moby Dick but not in Sense and Sensibility?\n",
    "diff2 = B.difference(A)# Which words exists in Sense and Sensibility but not in Moby Dick?\n",
    "both  = A.intersection(B) # Which words are used in both texts\n",
    "print(\"There are {} words in Moby Dick there aren't in Sense and Sensibility\".format(len(diff1)))\n",
    "print(\"There are {} words in Sense and Sensibility there aren't in Moby Dick\".format(len(diff2)))\n",
    "print(\"There are {} words shared by both texts\".format(len(both)))"
   ],
   "outputs": [
    {
     "output_type": "stream",
     "name": "stdout",
     "text": [
      "There are 14648 words in Moby Dick there aren't in Sense and Sensibility\n",
      "There are 2164 words in Sense and Sensibility there aren't in Moby Dick\n",
      "There are 4669 words shared by both texts\n"
     ]
    }
   ],
   "metadata": {}
  },
  {
   "cell_type": "markdown",
   "source": [
    "# Lists"
   ],
   "metadata": {}
  },
  {
   "cell_type": "code",
   "execution_count": null,
   "source": [
    "sent1 = ['Call', 'me', 'Ishmael', '.']\n",
    "richness(sent1)"
   ],
   "outputs": [
    {
     "output_type": "execute_result",
     "data": {
      "text/plain": [
       "1.0"
      ]
     },
     "metadata": {},
     "execution_count": 73
    }
   ],
   "metadata": {}
  },
  {
   "cell_type": "code",
   "execution_count": null,
   "source": [
    "sent1"
   ],
   "outputs": [
    {
     "output_type": "execute_result",
     "data": {
      "text/plain": [
       "['[', 'Moby', 'Dick', 'by', 'Herman']"
      ]
     },
     "metadata": {},
     "execution_count": 72
    }
   ],
   "metadata": {}
  },
  {
   "cell_type": "code",
   "execution_count": null,
   "source": [
    "sent1.append('Bye!')\n",
    "sent1"
   ],
   "outputs": [
    {
     "output_type": "execute_result",
     "data": {
      "text/plain": [
       "['Call', 'me', 'Ishmael', '.', 'Bye!']"
      ]
     },
     "metadata": {},
     "execution_count": 74
    }
   ],
   "metadata": {}
  },
  {
   "cell_type": "code",
   "execution_count": null,
   "source": [
    "#Adding lists:\n",
    "sent1+sent1"
   ],
   "outputs": [
    {
     "output_type": "execute_result",
     "data": {
      "text/plain": [
       "['Call', 'me', 'Ishmael', '.', 'Bye!', 'Call', 'me', 'Ishmael', '.', 'Bye!']"
      ]
     },
     "metadata": {},
     "execution_count": 75
    }
   ],
   "metadata": {}
  },
  {
   "cell_type": "markdown",
   "source": [
    "# Indexing Lists"
   ],
   "metadata": {}
  },
  {
   "cell_type": "code",
   "execution_count": null,
   "source": [
    "text1[221]"
   ],
   "outputs": [
    {
     "output_type": "execute_result",
     "data": {
      "text/plain": [
       "'GREEK'"
      ]
     },
     "metadata": {},
     "execution_count": 79
    }
   ],
   "metadata": {}
  },
  {
   "cell_type": "code",
   "execution_count": null,
   "source": [
    "text4.index('awaken')"
   ],
   "outputs": [
    {
     "output_type": "execute_result",
     "data": {
      "text/plain": [
       "173"
      ]
     },
     "metadata": {},
     "execution_count": 80
    }
   ],
   "metadata": {}
  },
  {
   "cell_type": "code",
   "execution_count": null,
   "source": [
    "text5[16715:16735]"
   ],
   "outputs": [
    {
     "output_type": "execute_result",
     "data": {
      "text/plain": [
       "['U86',\n",
       " 'thats',\n",
       " 'why',\n",
       " 'something',\n",
       " 'like',\n",
       " 'gamefly',\n",
       " 'is',\n",
       " 'so',\n",
       " 'good',\n",
       " 'because',\n",
       " 'you',\n",
       " 'can',\n",
       " 'actually',\n",
       " 'play',\n",
       " 'a',\n",
       " 'full',\n",
       " 'game',\n",
       " 'without',\n",
       " 'buying',\n",
       " 'it']"
      ]
     },
     "metadata": {},
     "execution_count": 81
    }
   ],
   "metadata": {}
  },
  {
   "cell_type": "markdown",
   "source": [
    "# Strings"
   ],
   "metadata": {}
  },
  {
   "cell_type": "code",
   "execution_count": null,
   "source": [
    "name = 'Monty'\n",
    "first_letter = name[0]\n",
    "print('name first letter: {}'.format(first_letter))\n",
    "last_letter = name[-1]\n",
    "print('name last letter: {}'.format(last_letter))\n",
    "reversed_name = name[::-1]\n",
    "print('Name reversed: {}'.format(reversed_name))"
   ],
   "outputs": [
    {
     "output_type": "stream",
     "name": "stdout",
     "text": [
      "name first letter: M\n",
      "name last letter: y\n",
      "Name reversed: ytnoM\n"
     ]
    }
   ],
   "metadata": {}
  },
  {
   "cell_type": "markdown",
   "source": [
    "# Computing with Language: Simple Statistics"
   ],
   "metadata": {}
  },
  {
   "cell_type": "code",
   "execution_count": 131,
   "source": [
    "fdist1 = FreqDist(text1)\n",
    "vocabulary1 = [*fdist1.keys()]\n",
    "# Looking the first 5 tokens from Moby Dick\n",
    "vocabulary1[:5]\n"
   ],
   "outputs": [
    {
     "output_type": "execute_result",
     "data": {
      "text/plain": [
       "['[', 'Moby', 'Dick', 'by', 'Herman']"
      ]
     },
     "metadata": {},
     "execution_count": 131
    }
   ],
   "metadata": {}
  },
  {
   "cell_type": "code",
   "execution_count": 126,
   "source": [
    "# How many times the word whale is used?\n",
    "fdist1['whale']"
   ],
   "outputs": [
    {
     "output_type": "execute_result",
     "data": {
      "text/plain": [
       "906"
      ]
     },
     "metadata": {},
     "execution_count": 126
    }
   ],
   "metadata": {}
  },
  {
   "cell_type": "code",
   "execution_count": 142,
   "source": [
    "plt.figure(figsize=(8,6))\n",
    "fdist1.plot(50, cumulative=True);"
   ],
   "outputs": [
    {
     "output_type": "display_data",
     "data": {
      "text/plain": [
       "<Figure size 576x432 with 1 Axes>"
      ],
      "image/png": "[encoded data removed]"
     },
     "metadata": {
      "needs_background": "light"
     }
    }
   ],
   "metadata": {}
  },
  {
   "cell_type": "code",
   "execution_count": 145,
   "source": [
    "#List of rare words\n",
    "fdist1.hapaxes()[:10]"
   ],
   "outputs": [
    {
     "output_type": "execute_result",
     "data": {
      "text/plain": [
       "['Herman',\n",
       " 'Melville',\n",
       " ']',\n",
       " 'ETYMOLOGY',\n",
       " 'Late',\n",
       " 'Consumptive',\n",
       " 'School',\n",
       " 'threadbare',\n",
       " 'lexicons',\n",
       " 'mockingly']"
      ]
     },
     "metadata": {},
     "execution_count": 145
    }
   ],
   "metadata": {}
  },
  {
   "cell_type": "code",
   "execution_count": 161,
   "source": [
    "V = set(text3)\n",
    "long_words = [w for w in V if len(w)>10]\n",
    "sorted(long_words)\n"
   ],
   "outputs": [
    {
     "output_type": "execute_result",
     "data": {
      "text/plain": [
       "['Abelmizraim',\n",
       " 'Allonbachuth',\n",
       " 'Beerlahairoi',\n",
       " 'Canaanitish',\n",
       " 'Chedorlaomer',\n",
       " 'EleloheIsrael',\n",
       " 'Girgashites',\n",
       " 'Hazarmaveth',\n",
       " 'Hazezontamar',\n",
       " 'Ishmeelites',\n",
       " 'Jegarsahadutha',\n",
       " 'Jehovahjireh',\n",
       " 'Kirjatharba',\n",
       " 'Melchizedek',\n",
       " 'Mesopotamia',\n",
       " 'Peradventure',\n",
       " 'Philistines',\n",
       " 'Zaphnathpaaneah',\n",
       " 'abomination',\n",
       " 'acknowledged',\n",
       " 'buryingplace',\n",
       " 'circumcised',\n",
       " 'commandment',\n",
       " 'commandments',\n",
       " 'confederate',\n",
       " 'continually',\n",
       " 'countenance',\n",
       " 'deceitfully',\n",
       " 'deliverance',\n",
       " 'established',\n",
       " 'everlasting',\n",
       " 'exceedingly',\n",
       " 'generations',\n",
       " 'habitations',\n",
       " 'handmaidens',\n",
       " 'imagination',\n",
       " 'inhabitants',\n",
       " 'inheritance',\n",
       " 'instruments',\n",
       " 'interpretation',\n",
       " 'interpretations',\n",
       " 'interpreted',\n",
       " 'interpreter',\n",
       " 'leanfleshed',\n",
       " 'maidservants',\n",
       " 'menservants',\n",
       " 'merchantmen',\n",
       " 'multiplying',\n",
       " 'peradventure',\n",
       " 'plenteousness',\n",
       " 'possessions',\n",
       " 'progenitors',\n",
       " 'righteousness',\n",
       " 'ringstraked',\n",
       " 'seventeenth',\n",
       " 'sheepshearers',\n",
       " 'shoelatchet',\n",
       " 'storehouses',\n",
       " 'strengthened',\n",
       " 'threshingfloor',\n",
       " 'uncircumcised',\n",
       " 'womenservan',\n",
       " 'womenservants',\n",
       " 'yesternight']"
      ]
     },
     "metadata": {},
     "execution_count": 161
    }
   ],
   "metadata": {}
  },
  {
   "cell_type": "code",
   "execution_count": 163,
   "source": [
    "# finding frequent long words in text 5\n",
    "fdist5 = FreqDist(text5)\n",
    "sorted([w for w in set(text5) if len(w)>7 and fdist5[w]>7])"
   ],
   "outputs": [
    {
     "output_type": "execute_result",
     "data": {
      "text/plain": [
       "['#14-19teens',\n",
       " '#talkcity_adults',\n",
       " '((((((((((',\n",
       " '........',\n",
       " 'Question',\n",
       " 'actually',\n",
       " 'anything',\n",
       " 'computer',\n",
       " 'cute.-ass',\n",
       " 'everyone',\n",
       " 'football',\n",
       " 'innocent',\n",
       " 'listening',\n",
       " 'remember',\n",
       " 'seriously',\n",
       " 'something',\n",
       " 'together',\n",
       " 'tomorrow',\n",
       " 'watching']"
      ]
     },
     "metadata": {},
     "execution_count": 163
    }
   ],
   "metadata": {}
  },
  {
   "cell_type": "markdown",
   "source": [
    "# Colocations and Bigrams"
   ],
   "metadata": {}
  },
  {
   "cell_type": "code",
   "execution_count": 166,
   "source": [
    "# A collocation is a sequence of words that occur together unusually often.\n",
    "# A bigram or digram is a sequence of two adjacent elements\n",
    "# from a string of tokes, typically letters, syllables, or words.\n",
    "list(bigrams(['more','is','said','than','done']))"
   ],
   "outputs": [
    {
     "output_type": "execute_result",
     "data": {
      "text/plain": [
       "[('more', 'is'), ('is', 'said'), ('said', 'than'), ('than', 'done')]"
      ]
     },
     "metadata": {},
     "execution_count": 166
    }
   ],
   "metadata": {}
  },
  {
   "cell_type": "code",
   "execution_count": 168,
   "source": [
    "text4.collocations()"
   ],
   "outputs": [
    {
     "output_type": "stream",
     "name": "stdout",
     "text": [
      "United States; fellow citizens; four years; years ago; Federal\n",
      "Government; General Government; American people; Vice President; God\n",
      "bless; Chief Justice; Old World; Almighty God; Fellow citizens; Chief\n",
      "Magistrate; every citizen; one another; fellow Americans; Indian\n",
      "tribes; public debt; foreign nations\n"
     ]
    }
   ],
   "metadata": {}
  },
  {
   "cell_type": "code",
   "execution_count": 170,
   "source": [
    "text8.collocations()"
   ],
   "outputs": [
    {
     "output_type": "stream",
     "name": "stdout",
     "text": [
      "would like; medium build; social drinker; quiet nights; non smoker;\n",
      "long term; age open; Would like; easy going; financially secure; fun\n",
      "times; similar interests; Age open; weekends away; poss rship; well\n",
      "presented; never married; single mum; permanent relationship; slim\n",
      "build\n"
     ]
    }
   ],
   "metadata": {}
  },
  {
   "cell_type": "code",
   "execution_count": null,
   "source": [],
   "outputs": [],
   "metadata": {}
  }
 ],
 "metadata": {
  "orig_nbformat": 4,
  "language_info": {
   "name": "python",
   "version": "3.8.5",
   "mimetype": "text/x-python",
   "codemirror_mode": {
    "name": "ipython",
    "version": 3
   },
   "pygments_lexer": "ipython3",
   "nbconvert_exporter": "python",
   "file_extension": ".py"
  },
  "kernelspec": {
   "name": "python3",
   "display_name": "Python 3.8.5 64-bit ('base': conda)"
  },
  "interpreter": {
   "hash": "899a33b20680b0783545e083e7871766e208dc1cce3c06a8413a7b8179cbaf55"
  }
 },
 "nbformat": 4,
 "nbformat_minor": 2
}