{
 "cells": [
  {
   "cell_type": "markdown",
   "source": [
    "# Natural Language Processing with python"
   ],
   "metadata": {}
  },
  {
   "cell_type": "markdown",
   "source": [
    "## Those notebooks are my notes of the homonym book. "
   ],
   "metadata": {}
  },
  {
   "cell_type": "code",
   "execution_count": 4,
   "source": [
    "import nltk\n",
    "nltk.download() #Downloading the material necessary.\n",
    "# It will pop up a window. Choose book, then download all the materials."
   ],
   "outputs": [
    {
     "output_type": "stream",
     "name": "stdout",
     "text": [
      "showing info https://raw.githubusercontent.com/nltk/nltk_data/gh-pages/index.xml\n"
     ]
    },
    {
     "output_type": "execute_result",
     "data": {
      "text/plain": [
       "True"
      ]
     },
     "metadata": {},
     "execution_count": 4
    }
   ],
   "metadata": {}
  },
  {
   "cell_type": "code",
   "execution_count": 3,
   "source": [
    "from nltk.book import *"
   ],
   "outputs": [
    {
     "output_type": "stream",
     "name": "stdout",
     "text": [
      "*** Introductory Examples for the NLTK Book ***\n",
      "Loading text1, ..., text9 and sent1, ..., sent9\n",
      "Type the name of the text or sentence to view it.\n",
      "Type: 'texts()' or 'sents()' to list the materials.\n",
      "text1: Moby Dick by Herman Melville 1851\n",
      "text2: Sense and Sensibility by Jane Austen 1811\n",
      "text3: The Book of Genesis\n",
      "text4: Inaugural Address Corpus\n",
      "text5: Chat Corpus\n",
      "text6: Monty Python and the Holy Grail\n",
      "text7: Wall Street Journal\n",
      "text8: Personals Corpus\n",
      "text9: The Man Who Was Thursday by G . K . Chesterton 1908\n"
     ]
    }
   ],
   "metadata": {}
  },
  {
   "cell_type": "markdown",
   "source": [
    "import nltk"
   ],
   "metadata": {}
  },
  {
   "cell_type": "code",
   "execution_count": 5,
   "source": [
    "# checking texts\n",
    "text1"
   ],
   "outputs": [
    {
     "output_type": "execute_result",
     "data": {
      "text/plain": [
       "<Text: Moby Dick by Herman Melville 1851>"
      ]
     },
     "metadata": {},
     "execution_count": 5
    }
   ],
   "metadata": {}
  },
  {
   "cell_type": "code",
   "execution_count": 6,
   "source": [
    "text2"
   ],
   "outputs": [
    {
     "output_type": "execute_result",
     "data": {
      "text/plain": [
       "<Text: Sense and Sensibility by Jane Austen 1811>"
      ]
     },
     "metadata": {},
     "execution_count": 6
    }
   ],
   "metadata": {}
  },
  {
   "cell_type": "code",
   "execution_count": 8,
   "source": [
    "#finding phrases with the world monstrous\n",
    "text1.concordance(\"monstrous\") "
   ],
   "outputs": [
    {
     "output_type": "stream",
     "name": "stdout",
     "text": [
      "Displaying 11 of 11 matches:\n",
      "ong the former , one was of a most monstrous size . ... This came towards us , \n",
      "ON OF THE PSALMS . \" Touching that monstrous bulk of the whale or ork we have r\n",
      "ll over with a heathenish array of monstrous clubs and spears . Some were thick\n",
      "d as you gazed , and wondered what monstrous cannibal and savage could ever hav\n",
      "that has survived the flood ; most monstrous and most mountainous ! That Himmal\n",
      "they might scout at Moby Dick as a monstrous fable , or still worse and more de\n",
      "th of Radney .'\" CHAPTER 55 Of the Monstrous Pictures of Whales . I shall ere l\n",
      "ing Scenes . In connexion with the monstrous pictures of whales , I am strongly\n",
      "ere to enter upon those still more monstrous stories of them which are to be fo\n",
      "ght have been rummaged out of this monstrous cabinet there is no telling . But \n",
      "of Whale - Bones ; for Whales of a monstrous size are oftentimes cast up dead u\n"
     ]
    }
   ],
   "metadata": {}
  },
  {
   "cell_type": "code",
   "execution_count": 13,
   "source": [
    "# finding the occurences of the word \"heart\"\n",
    "text1.concordance(\"heart\")\n"
   ],
   "outputs": [
    {
     "output_type": "stream",
     "name": "stdout",
     "text": [
      "Displaying 25 of 91 matches:\n",
      "e pale Usher -- threadbare in coat , heart , body , and brain ; I see him now .\n",
      "llons of blood are thrown out of the heart at a stroke , with immense velocity \n",
      "the blood gushing from the whale ' s heart .\" -- PALEY ' S THEOLOGY . \" The wha\n",
      "k on an empty stomach , in the negro heart of Africa , which was the sum of poo\n",
      "ehind . He goes down in the whirling heart of such a masterless commotion that \n",
      " I saw the traces of a simple honest heart ; and in his large , deep eyes , fie\n",
      "elting in me . No more my splintered heart and maddened hand were turned agains\n",
      "u lie like the one warm spark in the heart of an arctic crystal . We had been s\n",
      " pagan . And thus an old idolator at heart , he yet lived among these Christian\n",
      " greenness , must have come from the heart and centre of all verdure . Queequeg\n",
      "ith a globular brain and a ponderous heart ; who has also by the stillness and \n",
      "e your treasure is , there will your heart be also .\" \" I am going to put him d\n",
      "Captain Peleg , thou hast a generous heart ; but thou must consider the duty th\n",
      "omical , and could not find it in my heart to undervalue even a congregation of\n",
      "godly guise . Thou beliest thine own heart , Peleg . Tell me , when this same P\n",
      "eemed to me , I pronounced him in my heart , a humbug . CHAPTER 20 All Astir . \n",
      "thither , ready to turn her hand and heart to anything that promised to yield s\n",
      "I would have seen very plainly in my heart that I did but half fancy being comm\n",
      "e ! is all this agony so vain ? Take heart , take heart , O Bulkington ! Bear t\n",
      "is agony so vain ? Take heart , take heart , O Bulkington ! Bear thee grimly , \n",
      " fortitude , scarce might I have the heart to write it ; for it is a thing most\n",
      "\" On account of their warm bilocular heart , their lungs , their movable eyelid\n",
      ", loud , animal sob , like that of a heart - stricken moose ; \" Aye , aye ! it \n",
      "e , God may wedge aside . I would up heart , were it not like lead . But my who\n",
      "But my whole clock ' s run down ; my heart the all - controlling weight , I hav\n"
     ]
    }
   ],
   "metadata": {}
  },
  {
   "cell_type": "code",
   "execution_count": 14,
   "source": [
    "# Finding words often found with the word \"monstrous\"\n",
    "# On Moby Dick\n",
    "text1.similar(\"monstrous\")"
   ],
   "outputs": [
    {
     "output_type": "stream",
     "name": "stdout",
     "text": [
      "true contemptible christian abundant few part mean careful puzzled\n",
      "mystifying passing curious loving wise doleful gamesome singular\n",
      "delightfully perilous fearless\n"
     ]
    }
   ],
   "metadata": {}
  },
  {
   "cell_type": "code",
   "execution_count": 15,
   "source": [
    "# On Sense and Sensibility by Jane Austen 1811\n",
    "text2.similar(\"monstrous\")"
   ],
   "outputs": [
    {
     "output_type": "stream",
     "name": "stdout",
     "text": [
      "very so exceedingly heartily a as good great extremely remarkably\n",
      "sweet vast amazingly\n"
     ]
    }
   ],
   "metadata": {}
  },
  {
   "cell_type": "markdown",
   "source": [
    "### Note that the autors use the word monstrous in different\n",
    "### connotations. Austen uses it in a positive connotation,\n",
    "### very diferent from Melville. "
   ],
   "metadata": {}
  },
  {
   "cell_type": "markdown",
   "source": [],
   "metadata": {}
  },
  {
   "cell_type": "code",
   "execution_count": 18,
   "source": [
    "# Check the context share by a list of words\n",
    "text2.common_contexts([\"monstrous\",\"very\"])"
   ],
   "outputs": [
    {
     "output_type": "stream",
     "name": "stdout",
     "text": [
      "am_glad a_pretty a_lucky is_pretty be_glad\n"
     ]
    }
   ],
   "metadata": {}
  },
  {
   "cell_type": "markdown",
   "source": [],
   "metadata": {}
  },
  {
   "cell_type": "code",
   "execution_count": 19,
   "source": [
    "# Check exactly where on text a word appears\n",
    "text4.dispersibon_plot([\"citizens\", \"democracy\", \"freedom\", \"duties\", \"America\"])"
   ],
   "outputs": [
    {
     "output_type": "display_data",
     "data": {
      "text/plain": [
       "<Figure size 432x288 with 1 Axes>"
      ],
      "image/png": "[encoded data removed]"
     },
     "metadata": {
      "needs_background": "light"
     }
    }
   ],
   "metadata": {}
  },
  {
   "cell_type": "code",
   "execution_count": 31,
   "source": [
    "# Comparing texts\n",
    "text1.dispersion_plot([\"citizens\", \"democracy\", \"freedom\", \"duties\", \"America\"])\n",
    "# Note that depending on the subject, the words used can be completely different!"
   ],
   "outputs": [
    {
     "output_type": "display_data",
     "data": {
      "text/plain": [
       "<Figure size 432x288 with 1 Axes>"
      ],
      "image/png": "[encoded data removed]"
     },
     "metadata": {
      "needs_background": "light"
     }
    }
   ],
   "metadata": {}
  },
  {
   "cell_type": "code",
   "execution_count": 33,
   "source": [
    "# checking the dispersion plot on Moby Dick with words that we expect finding\n",
    "text1.dispersion_plot([\"water\", \"sea\", \"whale\", \"dead\", \"ship\"])"
   ],
   "outputs": [
    {
     "output_type": "display_data",
     "data": {
      "text/plain": [
       "<Figure size 432x288 with 1 Axes>"
      ],
      "image/png": "[encoded data removed]"
     },
     "metadata": {
      "needs_background": "light"
     }
    }
   ],
   "metadata": {}
  },
  {
   "cell_type": "code",
   "execution_count": 28,
   "source": [
    "# Generating random text from a text style\n",
    "text1.generate()"
   ],
   "outputs": [
    {
     "output_type": "stream",
     "name": "stderr",
     "text": [
      "Building ngram index...\n"
     ]
    },
    {
     "output_type": "stream",
     "name": "stdout",
     "text": [
      "long , from one to the top - mast , and no coffin and went out a sea\n",
      "captain -- this peaking of the whales . , so as to preserve all his\n",
      "might had in former years abounding with them , they toil with their\n",
      "lances , strange tales of Southern whaling . at once the bravest\n",
      "Indians he was , after in vain strove to pierce the profundity . ?\n",
      "then ?\" a levelled flame of pale , And give no chance , watch him ;\n",
      "though the line , it is to be gainsaid . have been\n"
     ]
    },
    {
     "output_type": "execute_result",
     "data": {
      "text/plain": [
       "'long , from one to the top - mast , and no coffin and went out a sea\\ncaptain -- this peaking of the whales . , so as to preserve all his\\nmight had in former years abounding with them , they toil with their\\nlances , strange tales of Southern whaling . at once the bravest\\nIndians he was , after in vain strove to pierce the profundity . ?\\nthen ?\" a levelled flame of pale , And give no chance , watch him ;\\nthough the line , it is to be gainsaid . have been'"
      ]
     },
     "metadata": {},
     "execution_count": 28
    }
   ],
   "metadata": {}
  },
  {
   "cell_type": "markdown",
   "source": [
    "# Counting Vocabulary"
   ],
   "metadata": {}
  },
  {
   "cell_type": "code",
   "execution_count": 36,
   "source": [
    "# Counting vocabulary naively\n",
    "print(\"text 3 have {} tokens\".format(len(text3)))"
   ],
   "outputs": [
    {
     "output_type": "stream",
     "name": "stdout",
     "text": [
      "text 3 have 44764 tokens\n"
     ]
    }
   ],
   "metadata": {}
  },
  {
   "cell_type": "code",
   "execution_count": 42,
   "source": [
    "# Applying a cleaver strategy\n",
    "len(sorted(set(text3)))# set counts only once each term and \n",
    "# sorted orders it.\n",
    "# With this strategy, we're discovering the word types,\n",
    "#that is, the word considered as a unique \n",
    "# item of vocabulary."
   ],
   "outputs": [
    {
     "output_type": "execute_result",
     "data": {
      "text/plain": [
       "2789"
      ]
     },
     "metadata": {},
     "execution_count": 42
    }
   ],
   "metadata": {}
  },
  {
   "cell_type": "code",
   "execution_count": 47,
   "source": [
    "# Measuring lexical richness of a text\n",
    "richness = lambda text: len(text)/len(set(text))\n",
    "print(\"richness of text 1: {}\".format(richness(text1)))\n",
    "print(\"richness of text 2: {}\".format(richness(text2)))\n",
    "print(\"richness of text 3: {}\".format(richness(text3)))\n",
    "print(\"richness of text 4: {}\".format(richness(text4)))\n",
    "print(\"richness of text 9: {}\".format(richness(text9)))\n",
    "\n"
   ],
   "outputs": [
    {
     "output_type": "stream",
     "name": "stdout",
     "text": [
      "richness of text 1: 13.502044830977896\n",
      "richness of text 2: 20.719449729255086\n",
      "richness of text 3: 16.050197203298673\n",
      "richness of text 4: 15.111167154241905\n",
      "richness of text 9: 10.167915381225209\n"
     ]
    }
   ],
   "metadata": {}
  },
  {
   "cell_type": "code",
   "execution_count": 54,
   "source": [
    "# Counting how may times a word occurs in a text:\n",
    "word_occurence = lambda text,word: 100*text.count(word)/len(text)\n",
    "word_occurence(text4,'a')"
   ],
   "outputs": [
    {
     "output_type": "execute_result",
     "data": {
      "text/plain": [
       "1.457973123627309"
      ]
     },
     "metadata": {},
     "execution_count": 54
    }
   ],
   "metadata": {}
  },
  {
   "cell_type": "code",
   "execution_count": 66,
   "source": [
    "# With python sets, it's possible to check words used\n",
    "# by one text but not by another\n",
    "\n",
    "A = set(text1)\n",
    "B = set(text2)\n",
    "diff1 = A.difference(B)# Which words exists in Moby Dick but not in Sense and Sensibility?\n",
    "diff2 = B.difference(A)# Which words exists in Sense and Sensibility but not in Moby Dick?\n",
    "both  = A.intersection(B) # Which words are used in both texts\n",
    "print(\"There are {} words in Moby Dick there aren't in Sense and Sensibility\".format(len(diff1)))\n",
    "print(\"There are {} words in Sense and Sensibility there aren't in Moby Dick\".format(len(diff2)))\n",
    "print(\"There are {} words shared by both texts\".format(len(both)))"
   ],
   "outputs": [
    {
     "output_type": "stream",
     "name": "stdout",
     "text": [
      "There are 14648 words in Moby Dick there aren't in Sense and Sensibility\n",
      "There are 2164 words in Sense and Sensibility there aren't in Moby Dick\n",
      "There are 4669 words shared by both texts\n"
     ]
    }
   ],
   "metadata": {}
  },
  {
   "cell_type": "code",
   "execution_count": null,
   "source": [],
   "outputs": [],
   "metadata": {}
  },
  {
   "cell_type": "code",
   "execution_count": null,
   "source": [],
   "outputs": [],
   "metadata": {}
  }
 ],
 "metadata": {
  "orig_nbformat": 4,
  "language_info": {
   "name": "python",
   "version": "3.8.5",
   "mimetype": "text/x-python",
   "codemirror_mode": {
    "name": "ipython",
    "version": 3
   },
   "pygments_lexer": "ipython3",
   "nbconvert_exporter": "python",
   "file_extension": ".py"
  },
  "kernelspec": {
   "name": "python3",
   "display_name": "Python 3.8.5 64-bit ('base': conda)"
  },
  "interpreter": {
   "hash": "899a33b20680b0783545e083e7871766e208dc1cce3c06a8413a7b8179cbaf55"
  }
 },
 "nbformat": 4,
 "nbformat_minor": 2
}